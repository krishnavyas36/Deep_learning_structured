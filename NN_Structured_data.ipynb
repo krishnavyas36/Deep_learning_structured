{
  "nbformat": 4,
  "nbformat_minor": 0,
  "metadata": {
    "colab": {
      "provenance": []
    },
    "kernelspec": {
      "name": "python3",
      "display_name": "Python 3"
    },
    "language_info": {
      "name": "python"
    }
  },
  "cells": [
    {
      "cell_type": "code",
      "execution_count": null,
      "metadata": {
        "id": "qPlmsuBU7xi_"
      },
      "outputs": [],
      "source": []
    },
    {
      "cell_type": "code",
      "execution_count": null,
      "metadata": {
        "id": "4BuaNOLL36MS"
      },
      "outputs": [],
      "source": [
        "import pandas as pd\n",
        "import numpy as np\n",
        "import torch\n",
        "import torch.nn as nn\n",
        "import torch.optim as optim\n",
        "from sklearn.preprocessing import StandardScaler\n",
        "from sklearn.model_selection import train_test_split\n",
        "from sklearn.metrics import confusion_matrix, classification_report\n",
        "from torch.utils.data import DataLoader, TensorDataset\n",
        "from itertools import chain\n"
      ]
    },
    {
      "cell_type": "code",
      "source": [],
      "metadata": {
        "id": "fJfjnexW8Dc6"
      },
      "execution_count": null,
      "outputs": []
    },
    {
      "cell_type": "code",
      "execution_count": null,
      "metadata": {
        "id": "P0CmIvxwRGCk",
        "colab": {
          "base_uri": "https://localhost:8080/"
        },
        "outputId": "5594b2a6-9d2d-403a-d84d-976beed22aaa"
      },
      "outputs": [
        {
          "output_type": "stream",
          "name": "stdout",
          "text": [
            "Mounted at /content/drive\n"
          ]
        }
      ],
      "source": [
        "from google.colab import drive\n",
        "drive.mount('/content/drive')"
      ]
    },
    {
      "cell_type": "code",
      "source": [
        "\n",
        "news = pd.read_csv(\"/content/drive/MyDrive/prj/OnlineNewsPopularity.csv\")\n",
        "\n",
        "\n",
        "desired_columns = [' timedelta', ' n_tokens_title', ' n_tokens_content',\n",
        "                   ' n_unique_tokens', ' num_hrefs', ' num_self_hrefs', ' num_imgs',\n",
        "                   ' num_videos', ' average_token_length', ' num_keywords',\n",
        "                   ' data_channel_is_lifestyle', ' data_channel_is_entertainment',\n",
        "                   ' data_channel_is_bus', ' data_channel_is_socmed', ' data_channel_is_tech',\n",
        "                   ' data_channel_is_world', ' kw_min_min', ' kw_max_min', ' kw_avg_min',\n",
        "                   ' kw_min_max', ' kw_max_max', ' kw_avg_max', ' kw_min_avg', ' kw_max_avg',\n",
        "                   ' kw_avg_avg', ' self_reference_min_shares', ' self_reference_max_shares',\n",
        "                   ' self_reference_avg_sharess', ' weekday_is_monday', ' weekday_is_tuesday',\n",
        "                   ' weekday_is_wednesday', ' weekday_is_thursday', ' weekday_is_friday',\n",
        "                   ' weekday_is_saturday', ' weekday_is_sunday', ' is_weekend', ' LDA_00',\n",
        "                   ' LDA_01', ' LDA_02', ' LDA_03', ' LDA_04', ' global_subjectivity',\n",
        "                   ' global_sentiment_polarity', ' global_rate_positive_words',\n",
        "                   ' global_rate_negative_words', ' rate_positive_words',\n",
        "                   ' rate_negative_words', ' avg_positive_polarity', ' min_positive_polarity',\n",
        "                   ' max_positive_polarity', ' avg_negative_polarity', ' min_negative_polarity',\n",
        "                   ' max_negative_polarity', ' title_subjectivity', ' title_sentiment_polarity',\n",
        "                   ' abs_title_subjectivity', ' abs_title_sentiment_polarity', ' shares']\n",
        "\n",
        "new_news = news[desired_columns]\n",
        "\n",
        "\n",
        "new_news.columns = new_news.columns.str.strip()\n",
        "\n",
        "\n",
        "threshold = 150000\n",
        "fltr_new_news = new_news[new_news['shares'] <= threshold]\n",
        "\n",
        "\n",
        "predictors = fltr_new_news.drop(['shares'], axis=1)\n",
        "target = fltr_new_news['shares']\n",
        "\n",
        "\n",
        "target = (target > 1400).astype(int)\n",
        "\n",
        "\n",
        "predictors_train, predictors_test, target_train, target_test = train_test_split(\n",
        "    predictors, target, test_size=0.3, random_state=1)\n",
        "\n",
        "\n",
        "scaler = StandardScaler()\n",
        "X_train_scaled = scaler.fit_transform(predictors_train)\n",
        "X_test_scaled = scaler.transform(predictors_test)\n",
        "\n",
        "# connvert data into tensor usong pytorch\n",
        "X_train_tensor = torch.tensor(X_train_scaled, dtype=torch.float32)\n",
        "X_test_tensor = torch.tensor(X_test_scaled, dtype=torch.float32)\n",
        "y_train_tensor = torch.tensor(target_train.values, dtype=torch.long)\n",
        "y_test_tensor = torch.tensor(target_test.values, dtype=torch.long)\n",
        "\n",
        "\n",
        "train_dataset = TensorDataset(X_train_tensor, y_train_tensor)\n",
        "test_dataset = TensorDataset(X_test_tensor, y_test_tensor)\n",
        "train_loader = DataLoader(train_dataset, batch_size=32, shuffle=True)\n",
        "test_loader = DataLoader(test_dataset, batch_size=32, shuffle=False)\n"
      ],
      "metadata": {
        "id": "n8sLf54k6eqw"
      },
      "execution_count": null,
      "outputs": []
    },
    {
      "cell_type": "markdown",
      "source": [
        "# Feed forward neural network"
      ],
      "metadata": {
        "id": "f1L3HrP3EqhQ"
      }
    },
    {
      "cell_type": "code",
      "source": [
        "\n",
        "class NeuralNetwork(nn.Module):\n",
        "    def __init__(self, input_size, hidden_size1, hidden_size2, output_size):\n",
        "        super().__init__()\n",
        "        self.network = nn.Sequential(\n",
        "            nn.Linear(input_size, hidden_size1),\n",
        "            nn.ReLU(),\n",
        "            nn.Linear(hidden_size1, hidden_size2),\n",
        "            nn.ReLU(),\n",
        "            nn.Linear(hidden_size2, output_size)\n",
        "        )\n",
        "\n",
        "    def forward(self, x):\n",
        "        return self.network(x)\n"
      ],
      "metadata": {
        "id": "4HobjSsh6fkU"
      },
      "execution_count": null,
      "outputs": []
    },
    {
      "cell_type": "code",
      "source": [
        "# Training Loop\n",
        "def training_loop(n_epochs, optimizer, model, loss_fn, train_loader):\n",
        "    for epoch in range(n_epochs):\n",
        "        model.train()\n",
        "        loss_train = 0.0\n",
        "        for inputs, labels in train_loader:\n",
        "            # Forward pass\n",
        "            outputs = model(inputs)\n",
        "            loss = loss_fn(outputs, labels)\n",
        "\n",
        "            # Backward pass and optimization\n",
        "            optimizer.zero_grad()\n",
        "            loss.backward()\n",
        "            optimizer.step()\n",
        "\n",
        "            # Accumulate loss\n",
        "            loss_train += loss.item()\n",
        "\n",
        "        print(f\"Epoch {epoch+1}/{n_epochs}, Training Loss: {loss_train / len(train_loader):.4f}\")\n",
        "\n",
        "\n",
        "def test(model, train_loader, test_loader, num_classes):\n",
        "    model.eval()\n",
        "    predict_train, predict_test = [], []\n",
        "    labels_train, labels_test = [], []\n",
        "\n",
        "    with torch.no_grad():\n",
        "\n",
        "        for inputs, labels in train_loader:\n",
        "            outputs = model(inputs)\n",
        "            _, predicted = torch.max(outputs, dim=1)\n",
        "            predict_train.append(predicted.tolist())\n",
        "            labels_train.append(labels.tolist())\n",
        "\n",
        "\n",
        "        for inputs, labels in test_loader:\n",
        "            outputs = model(inputs)\n",
        "            _, predicted = torch.max(outputs, dim=1)\n",
        "            predict_test.append(predicted.tolist())\n",
        "            labels_test.append(labels.tolist())\n",
        "\n",
        "\n",
        "        print(\"Confusion Matrix (Train):\")\n",
        "        print(confusion_matrix(list(chain(*labels_train)), list(chain(*predict_train)), labels=list(range(num_classes))))\n",
        "        print(\"\\nClassification Report (Train):\")\n",
        "        print(classification_report(list(chain(*labels_train)), list(chain(*predict_train)), labels=list(range(num_classes))))\n",
        "\n",
        "\n",
        "        print(\"\\nConfusion Matrix (Test):\")\n",
        "        print(confusion_matrix(list(chain(*labels_test)), list(chain(*predict_test)), labels=list(range(num_classes))))\n",
        "        print(\"\\nClassification Report (Test):\")\n",
        "        print(classification_report(list(chain(*labels_test)), list(chain(*predict_test)), labels=list(range(num_classes))))\n"
      ],
      "metadata": {
        "id": "x7jl50BM6i7K"
      },
      "execution_count": null,
      "outputs": []
    },
    {
      "cell_type": "code",
      "source": [
        "\n",
        "input_size = X_train_tensor.shape[1]\n",
        "hidden_size1 = 128\n",
        "hidden_size2 = 64\n",
        "output_size = 2\n",
        "torch.manual_seed(42)\n",
        "model = NeuralNetwork(input_size, hidden_size1, hidden_size2, output_size)\n",
        "optimizer = optim.Adam(model.parameters(), lr=0.0001)\n",
        "loss_fn = nn.CrossEntropyLoss()\n",
        "\n",
        "# Train the model\n",
        "training_loop(n_epochs=10, optimizer=optimizer, model=model, loss_fn=loss_fn, train_loader=train_loader)\n"
      ],
      "metadata": {
        "id": "9lOLXliB6j9l",
        "colab": {
          "base_uri": "https://localhost:8080/"
        },
        "outputId": "b8229cc9-7cbf-4854-fa17-609797600901"
      },
      "execution_count": null,
      "outputs": [
        {
          "output_type": "stream",
          "name": "stdout",
          "text": [
            "Epoch 1/10, Training Loss: 0.6571\n",
            "Epoch 2/10, Training Loss: 0.6313\n",
            "Epoch 3/10, Training Loss: 0.6243\n",
            "Epoch 4/10, Training Loss: 0.6194\n",
            "Epoch 5/10, Training Loss: 0.6156\n",
            "Epoch 6/10, Training Loss: 0.6123\n",
            "Epoch 7/10, Training Loss: 0.6097\n",
            "Epoch 8/10, Training Loss: 0.6071\n",
            "Epoch 9/10, Training Loss: 0.6046\n",
            "Epoch 10/10, Training Loss: 0.6026\n"
          ]
        }
      ]
    },
    {
      "cell_type": "code",
      "source": [
        "\n",
        "test(model, train_loader, test_loader, num_classes=output_size)\n"
      ],
      "metadata": {
        "id": "Z4fOQBGe6ne0",
        "colab": {
          "base_uri": "https://localhost:8080/"
        },
        "outputId": "cad204d3-3e60-4d15-c0f7-8e0d86edb326"
      },
      "execution_count": null,
      "outputs": [
        {
          "output_type": "stream",
          "name": "stdout",
          "text": [
            "Confusion Matrix (Train):\n",
            "[[9483 4500]\n",
            " [4545 9206]]\n",
            "\n",
            "Classification Report (Train):\n",
            "              precision    recall  f1-score   support\n",
            "\n",
            "           0       0.68      0.68      0.68     13983\n",
            "           1       0.67      0.67      0.67     13751\n",
            "\n",
            "    accuracy                           0.67     27734\n",
            "   macro avg       0.67      0.67      0.67     27734\n",
            "weighted avg       0.67      0.67      0.67     27734\n",
            "\n",
            "\n",
            "Confusion Matrix (Test):\n",
            "[[4047 2052]\n",
            " [1919 3869]]\n",
            "\n",
            "Classification Report (Test):\n",
            "              precision    recall  f1-score   support\n",
            "\n",
            "           0       0.68      0.66      0.67      6099\n",
            "           1       0.65      0.67      0.66      5788\n",
            "\n",
            "    accuracy                           0.67     11887\n",
            "   macro avg       0.67      0.67      0.67     11887\n",
            "weighted avg       0.67      0.67      0.67     11887\n",
            "\n"
          ]
        }
      ]
    },
    {
      "cell_type": "markdown",
      "source": [
        "# Tuning"
      ],
      "metadata": {
        "id": "TWwQgJR7E9GF"
      }
    },
    {
      "cell_type": "code",
      "source": [
        "import random\n",
        "import torch\n",
        "import torch.nn as nn\n",
        "import torch.optim as optim\n",
        "from sklearn.metrics import confusion_matrix, classification_report\n",
        "\n",
        "# Parameters\n",
        "batch_sizes = [16, 32, 64, 128]\n",
        "learning_rates = [0.1, 0.01, 0.001, 0.0001]\n",
        "hidden_layer_configs = [256, 128, 64]\n",
        "activation_functions = [nn.ReLU(), nn.Tanh(), nn.Sigmoid()]\n",
        "layers_no = [1, 2, 3]\n",
        "optimizers = [('Adam', optim.Adam), ('SGD', optim.SGD), ('RMSprop', optim.RMSprop)]\n",
        "n_iterations = 16  # Number of random combinations to test\n",
        "best_accuracy = 0\n",
        "best_params = {}\n",
        "\n",
        "# Loop through random hyperparameter combinations\n",
        "for i in range(n_iterations):\n",
        "    # Randomly sample hyperparameters\n",
        "    batch_size = random.choice(batch_sizes)\n",
        "    learning_rate = random.choice(learning_rates)\n",
        "    hidden_sizes = random.choice(hidden_layer_configs)\n",
        "    activation_fn = random.choice(activation_functions)\n",
        "    layers = random.choice(layers_no)\n",
        "\n",
        "    # Randomly select an optimizer\n",
        "    optimizer_name, optimizer_class = random.choice(optimizers)\n",
        "\n",
        "    # Define the neural network structure based on the number of layers\n",
        "    if layers == 3:\n",
        "        class NeuralNetwork(nn.Module):\n",
        "            def __init__(self, input_size, hidden_size1, output_size, activation_fn):\n",
        "                super().__init__()\n",
        "                self.network = nn.Sequential(\n",
        "                    nn.Linear(input_size, hidden_size1),\n",
        "                    activation_fn,\n",
        "                    nn.Linear(hidden_size1, hidden_size1 // 2),\n",
        "                    activation_fn,\n",
        "                    nn.Linear(hidden_size1 // 2, hidden_size1 // 4),\n",
        "                    activation_fn,\n",
        "                    nn.Linear(hidden_size1 // 4, output_size)\n",
        "                )\n",
        "\n",
        "            def forward(self, x):\n",
        "                return self.network(x)\n",
        "\n",
        "    elif layers == 2:\n",
        "        class NeuralNetwork(nn.Module):\n",
        "            def __init__(self, input_size, hidden_size1, output_size, activation_fn):\n",
        "                super().__init__()\n",
        "                self.network = nn.Sequential(\n",
        "                    nn.Linear(input_size, hidden_size1),\n",
        "                    activation_fn,\n",
        "                    nn.Linear(hidden_size1, hidden_size1 // 2),\n",
        "                    activation_fn,\n",
        "                    nn.Linear(hidden_size1 // 2, output_size)\n",
        "                )\n",
        "\n",
        "            def forward(self, x):\n",
        "                return self.network(x)\n",
        "\n",
        "    else:  # Single hidden layer\n",
        "        class NeuralNetwork(nn.Module):\n",
        "            def __init__(self, input_size, hidden_size1, output_size, activation_fn):\n",
        "                super().__init__()\n",
        "                self.network = nn.Sequential(\n",
        "                    nn.Linear(input_size, hidden_size1),\n",
        "                    activation_fn,\n",
        "                    nn.Linear(hidden_size1, output_size)\n",
        "                )\n",
        "\n",
        "            def forward(self, x):\n",
        "                return self.network(x)\n",
        "\n",
        "\n",
        "    train_loader = torch.utils.data.DataLoader(train_dataset, batch_size=batch_size, shuffle=True)\n",
        "    test_loader = torch.utils.data.DataLoader(test_dataset, batch_size=batch_size, shuffle=False)\n",
        "\n",
        "\n",
        "    torch.manual_seed(0)\n",
        "    model = NeuralNetwork(input_size=X_train_tensor.shape[1], hidden_size1=hidden_sizes, output_size=2, activation_fn=activation_fn)\n",
        "    optimizer = optimizer_class(model.parameters(), lr=learning_rate)\n",
        "    loss_fn = nn.CrossEntropyLoss()\n",
        "\n",
        "\n",
        "    print(f\"\\nIteration {i+1}\")\n",
        "    print(f\"Optimizer: {optimizer_name}\")\n",
        "    print(f\"Batch Size: {batch_size}, Learning Rate: {learning_rate}, Layers: {layers}, Hidden Sizes: {hidden_sizes}, Activation Function: {activation_fn}\")\n",
        "\n",
        "\n",
        "    for epoch in range(5):\n",
        "        model.train()\n",
        "        total_loss = 0\n",
        "        for inputs, labels in train_loader:\n",
        "            outputs = model(inputs)\n",
        "            loss = loss_fn(outputs, labels)\n",
        "\n",
        "            optimizer.zero_grad()\n",
        "            loss.backward()\n",
        "            optimizer.step()\n",
        "            total_loss += loss.item()\n",
        "\n",
        "        print(f\"Epoch {epoch + 1}, Loss: {total_loss / len(train_loader):.4f}\")\n",
        "\n",
        "\n",
        "    model.eval()\n",
        "    correct = 0\n",
        "    total = 0\n",
        "    with torch.no_grad():\n",
        "        for inputs, labels in test_loader:\n",
        "            outputs = model(inputs)\n",
        "            _, predicted = torch.max(outputs, dim=1)\n",
        "            total += labels.size(0)\n",
        "            correct += (predicted == labels).sum().item()\n",
        "\n",
        "    accuracy = correct / total\n",
        "    print(f\"Accuracy: {accuracy:.4f}\")\n",
        "\n",
        "\n",
        "    if accuracy > best_accuracy:\n",
        "        best_accuracy = accuracy\n",
        "        best_params = {\n",
        "            'batch_size': batch_size,\n",
        "            'learning_rate': learning_rate,\n",
        "            'hidden_sizes': hidden_sizes,\n",
        "            'activation_function': activation_fn,\n",
        "            'layers': layers,\n",
        "            'optimizer': optimizer_name\n",
        "        }\n",
        "\n",
        "\n",
        "print(\"\\nBest Configuration:\")\n",
        "print(best_params)\n",
        "print(f\"Best Accuracy: {best_accuracy:.4f}\")\n"
      ],
      "metadata": {
        "id": "N5DSZZsp-3MN",
        "colab": {
          "base_uri": "https://localhost:8080/"
        },
        "outputId": "256b23a3-0df4-4945-9915-8408fcca6a10"
      },
      "execution_count": null,
      "outputs": [
        {
          "output_type": "stream",
          "name": "stdout",
          "text": [
            "\n",
            "Iteration 1\n",
            "Optimizer: Adam\n",
            "Batch Size: 32, Learning Rate: 0.001, Layers: 1, Hidden Sizes: 64, Activation Function: ReLU()\n",
            "Epoch 1, Loss: 0.6384\n",
            "Epoch 2, Loss: 0.6202\n",
            "Epoch 3, Loss: 0.6140\n",
            "Epoch 4, Loss: 0.6090\n",
            "Epoch 5, Loss: 0.6058\n",
            "Accuracy: 0.6596\n",
            "\n",
            "Iteration 2\n",
            "Optimizer: SGD\n",
            "Batch Size: 128, Learning Rate: 0.001, Layers: 3, Hidden Sizes: 128, Activation Function: Sigmoid()\n",
            "Epoch 1, Loss: 0.6937\n",
            "Epoch 2, Loss: 0.6933\n",
            "Epoch 3, Loss: 0.6933\n",
            "Epoch 4, Loss: 0.6933\n",
            "Epoch 5, Loss: 0.6933\n",
            "Accuracy: 0.5131\n",
            "\n",
            "Iteration 3\n",
            "Optimizer: Adam\n",
            "Batch Size: 16, Learning Rate: 0.001, Layers: 3, Hidden Sizes: 128, Activation Function: Tanh()\n",
            "Epoch 1, Loss: 0.6381\n",
            "Epoch 2, Loss: 0.6312\n",
            "Epoch 3, Loss: 0.6258\n",
            "Epoch 4, Loss: 0.6208\n",
            "Epoch 5, Loss: 0.6165\n",
            "Accuracy: 0.6565\n",
            "\n",
            "Iteration 4\n",
            "Optimizer: Adam\n",
            "Batch Size: 64, Learning Rate: 0.001, Layers: 3, Hidden Sizes: 256, Activation Function: ReLU()\n",
            "Epoch 1, Loss: 0.6364\n",
            "Epoch 2, Loss: 0.6168\n",
            "Epoch 3, Loss: 0.6088\n",
            "Epoch 4, Loss: 0.6026\n",
            "Epoch 5, Loss: 0.5975\n",
            "Accuracy: 0.6615\n",
            "\n",
            "Iteration 5\n",
            "Optimizer: SGD\n",
            "Batch Size: 64, Learning Rate: 0.001, Layers: 1, Hidden Sizes: 64, Activation Function: ReLU()\n",
            "Epoch 1, Loss: 0.7058\n",
            "Epoch 2, Loss: 0.6907\n",
            "Epoch 3, Loss: 0.6823\n",
            "Epoch 4, Loss: 0.6760\n",
            "Epoch 5, Loss: 0.6709\n",
            "Accuracy: 0.5924\n",
            "\n",
            "Iteration 6\n",
            "Optimizer: Adam\n",
            "Batch Size: 128, Learning Rate: 0.001, Layers: 1, Hidden Sizes: 64, Activation Function: Tanh()\n",
            "Epoch 1, Loss: 0.6410\n",
            "Epoch 2, Loss: 0.6302\n",
            "Epoch 3, Loss: 0.6277\n",
            "Epoch 4, Loss: 0.6252\n",
            "Epoch 5, Loss: 0.6226\n",
            "Accuracy: 0.6593\n",
            "\n",
            "Iteration 7\n",
            "Optimizer: SGD\n",
            "Batch Size: 64, Learning Rate: 0.01, Layers: 1, Hidden Sizes: 64, Activation Function: Tanh()\n",
            "Epoch 1, Loss: 0.6608\n",
            "Epoch 2, Loss: 0.6380\n",
            "Epoch 3, Loss: 0.6346\n",
            "Epoch 4, Loss: 0.6326\n",
            "Epoch 5, Loss: 0.6313\n",
            "Accuracy: 0.6571\n",
            "\n",
            "Iteration 8\n",
            "Optimizer: SGD\n",
            "Batch Size: 64, Learning Rate: 0.1, Layers: 2, Hidden Sizes: 128, Activation Function: Sigmoid()\n",
            "Epoch 1, Loss: 0.6951\n",
            "Epoch 2, Loss: 0.6685\n",
            "Epoch 3, Loss: 0.6454\n",
            "Epoch 4, Loss: 0.6422\n",
            "Epoch 5, Loss: 0.6377\n",
            "Accuracy: 0.6395\n",
            "\n",
            "Iteration 9\n",
            "Optimizer: SGD\n",
            "Batch Size: 16, Learning Rate: 0.01, Layers: 1, Hidden Sizes: 64, Activation Function: Sigmoid()\n",
            "Epoch 1, Loss: 0.6669\n",
            "Epoch 2, Loss: 0.6420\n",
            "Epoch 3, Loss: 0.6373\n",
            "Epoch 4, Loss: 0.6351\n",
            "Epoch 5, Loss: 0.6340\n",
            "Accuracy: 0.6539\n",
            "\n",
            "Iteration 10\n",
            "Optimizer: RMSprop\n",
            "Batch Size: 128, Learning Rate: 0.1, Layers: 1, Hidden Sizes: 64, Activation Function: Sigmoid()\n",
            "Epoch 1, Loss: 1.2697\n",
            "Epoch 2, Loss: 0.7291\n",
            "Epoch 3, Loss: 0.7136\n",
            "Epoch 4, Loss: 0.6990\n",
            "Epoch 5, Loss: 0.7003\n",
            "Accuracy: 0.6014\n",
            "\n",
            "Iteration 11\n",
            "Optimizer: SGD\n",
            "Batch Size: 128, Learning Rate: 0.001, Layers: 3, Hidden Sizes: 256, Activation Function: ReLU()\n",
            "Epoch 1, Loss: 0.6952\n",
            "Epoch 2, Loss: 0.6942\n",
            "Epoch 3, Loss: 0.6933\n",
            "Epoch 4, Loss: 0.6926\n",
            "Epoch 5, Loss: 0.6919\n",
            "Accuracy: 0.4979\n",
            "\n",
            "Iteration 12\n",
            "Optimizer: RMSprop\n",
            "Batch Size: 32, Learning Rate: 0.001, Layers: 2, Hidden Sizes: 256, Activation Function: Tanh()\n",
            "Epoch 1, Loss: 0.6391\n",
            "Epoch 2, Loss: 0.6306\n",
            "Epoch 3, Loss: 0.6257\n",
            "Epoch 4, Loss: 0.6208\n",
            "Epoch 5, Loss: 0.6161\n",
            "Accuracy: 0.6560\n",
            "\n",
            "Iteration 13\n",
            "Optimizer: SGD\n",
            "Batch Size: 32, Learning Rate: 0.01, Layers: 3, Hidden Sizes: 256, Activation Function: Tanh()\n",
            "Epoch 1, Loss: 0.6539\n",
            "Epoch 2, Loss: 0.6336\n",
            "Epoch 3, Loss: 0.6310\n",
            "Epoch 4, Loss: 0.6299\n",
            "Epoch 5, Loss: 0.6289\n",
            "Accuracy: 0.6570\n",
            "\n",
            "Iteration 14\n",
            "Optimizer: Adam\n",
            "Batch Size: 16, Learning Rate: 0.0001, Layers: 3, Hidden Sizes: 128, Activation Function: Tanh()\n",
            "Epoch 1, Loss: 0.6426\n",
            "Epoch 2, Loss: 0.6306\n",
            "Epoch 3, Loss: 0.6287\n",
            "Epoch 4, Loss: 0.6268\n",
            "Epoch 5, Loss: 0.6256\n",
            "Accuracy: 0.6621\n",
            "\n",
            "Iteration 15\n",
            "Optimizer: Adam\n",
            "Batch Size: 128, Learning Rate: 0.01, Layers: 1, Hidden Sizes: 128, Activation Function: ReLU()\n",
            "Epoch 1, Loss: 0.6427\n",
            "Epoch 2, Loss: 0.6330\n",
            "Epoch 3, Loss: 0.6238\n",
            "Epoch 4, Loss: 0.6210\n",
            "Epoch 5, Loss: 0.6197\n",
            "Accuracy: 0.6585\n",
            "\n",
            "Iteration 16\n",
            "Optimizer: SGD\n",
            "Batch Size: 128, Learning Rate: 0.01, Layers: 2, Hidden Sizes: 128, Activation Function: Tanh()\n",
            "Epoch 1, Loss: 0.6777\n",
            "Epoch 2, Loss: 0.6500\n",
            "Epoch 3, Loss: 0.6411\n",
            "Epoch 4, Loss: 0.6375\n",
            "Epoch 5, Loss: 0.6355\n",
            "Accuracy: 0.6543\n",
            "\n",
            "Best Configuration:\n",
            "{'batch_size': 16, 'learning_rate': 0.0001, 'hidden_sizes': 128, 'activation_function': Tanh(), 'layers': 3, 'optimizer': 'Adam'}\n",
            "Best Accuracy: 0.6621\n"
          ]
        }
      ]
    },
    {
      "cell_type": "markdown",
      "source": [
        "#best model"
      ],
      "metadata": {
        "id": "9osW214IAtiZ"
      }
    },
    {
      "cell_type": "code",
      "source": [
        "\n",
        "class NeuralNetwork(nn.Module):\n",
        "    def __init__(self, input_size, hidden_size1, hidden_size2, output_size):\n",
        "        super().__init__()\n",
        "        self.network = nn.Sequential(\n",
        "            nn.Linear(input_size, hidden_size1),\n",
        "            nn.ReLU(),\n",
        "            nn.Linear(hidden_size1, hidden_size2),\n",
        "            nn.ReLU(),\n",
        "            nn.Linear(hidden_size2, output_size)\n",
        "        )\n",
        "\n",
        "    def forward(self, x):\n",
        "        return self.network(x)\n"
      ],
      "metadata": {
        "id": "YSJwyB9UAy68"
      },
      "execution_count": null,
      "outputs": []
    },
    {
      "cell_type": "code",
      "source": [
        "# Training Loop\n",
        "def training_loop(n_epochs, optimizer, model, loss_fn, train_loader):\n",
        "    for epoch in range(n_epochs):\n",
        "        model.train()\n",
        "        loss_train = 0.0\n",
        "        for inputs, labels in train_loader:\n",
        "\n",
        "            outputs = model(inputs)\n",
        "            loss = loss_fn(outputs, labels)\n",
        "\n",
        "\n",
        "            optimizer.zero_grad()\n",
        "            loss.backward()\n",
        "            optimizer.step()\n",
        "\n",
        "\n",
        "            loss_train += loss.item()\n",
        "\n",
        "        print(f\"Epoch {epoch+1}/{n_epochs}, Training Loss: {loss_train / len(train_loader):.4f}\")\n",
        "\n",
        "# Testing Function\n",
        "def test(model, train_loader, test_loader, num_classes):\n",
        "    model.eval()\n",
        "    predict_train, predict_test = [], []\n",
        "    labels_train, labels_test = [], []\n",
        "\n",
        "    with torch.no_grad():\n",
        "\n",
        "        for inputs, labels in train_loader:\n",
        "            outputs = model(inputs)\n",
        "            _, predicted = torch.max(outputs, dim=1)\n",
        "            predict_train.append(predicted.tolist())\n",
        "            labels_train.append(labels.tolist())\n",
        "\n",
        "\n",
        "        for inputs, labels in test_loader:\n",
        "            outputs = model(inputs)\n",
        "            _, predicted = torch.max(outputs, dim=1)\n",
        "            predict_test.append(predicted.tolist())\n",
        "            labels_test.append(labels.tolist())\n",
        "\n",
        "\n",
        "        print(\"Confusion Matrix (Train):\")\n",
        "        print(confusion_matrix(list(chain(*labels_train)), list(chain(*predict_train)), labels=list(range(num_classes))))\n",
        "        print(\"\\nClassification Report (Train):\")\n",
        "        print(classification_report(list(chain(*labels_train)), list(chain(*predict_train)), labels=list(range(num_classes))))\n",
        "\n",
        "\n",
        "        print(\"\\nConfusion Matrix (Test):\")\n",
        "        print(confusion_matrix(list(chain(*labels_test)), list(chain(*predict_test)), labels=list(range(num_classes))))\n",
        "        print(\"\\nClassification Report (Test):\")\n",
        "        print(classification_report(list(chain(*labels_test)), list(chain(*predict_test)), labels=list(range(num_classes))))\n"
      ],
      "metadata": {
        "id": "V81w9XzVAy68"
      },
      "execution_count": null,
      "outputs": []
    },
    {
      "cell_type": "code",
      "source": [
        "\n",
        "input_size = X_train_tensor.shape[1]\n",
        "hidden_size1 = 128\n",
        "hidden_size2 = 64\n",
        "output_size = 2\n",
        "\n",
        "torch.manual_seed(42)\n",
        "model = NeuralNetwork(input_size, hidden_size1, hidden_size2, output_size)\n",
        "optimizer = optim.Adam(model.parameters(), lr=0.0001)\n",
        "loss_fn = nn.CrossEntropyLoss()\n",
        "\n",
        "\n",
        "training_loop(n_epochs=20, optimizer=optimizer, model=model, loss_fn=loss_fn, train_loader=train_loader)\n"
      ],
      "metadata": {
        "colab": {
          "base_uri": "https://localhost:8080/"
        },
        "outputId": "6332289b-bea2-48dc-c90c-a20fde782555",
        "id": "3wPXa3X4Ay68"
      },
      "execution_count": null,
      "outputs": [
        {
          "output_type": "stream",
          "name": "stdout",
          "text": [
            "Epoch 1/20, Training Loss: 0.6736\n",
            "Epoch 2/20, Training Loss: 0.6431\n",
            "Epoch 3/20, Training Loss: 0.6329\n",
            "Epoch 4/20, Training Loss: 0.6280\n",
            "Epoch 5/20, Training Loss: 0.6245\n",
            "Epoch 6/20, Training Loss: 0.6215\n",
            "Epoch 7/20, Training Loss: 0.6191\n",
            "Epoch 8/20, Training Loss: 0.6165\n",
            "Epoch 9/20, Training Loss: 0.6147\n",
            "Epoch 10/20, Training Loss: 0.6127\n",
            "Epoch 11/20, Training Loss: 0.6109\n",
            "Epoch 12/20, Training Loss: 0.6095\n",
            "Epoch 13/20, Training Loss: 0.6077\n",
            "Epoch 14/20, Training Loss: 0.6067\n",
            "Epoch 15/20, Training Loss: 0.6051\n",
            "Epoch 16/20, Training Loss: 0.6039\n",
            "Epoch 17/20, Training Loss: 0.6025\n",
            "Epoch 18/20, Training Loss: 0.6012\n",
            "Epoch 19/20, Training Loss: 0.6000\n",
            "Epoch 20/20, Training Loss: 0.5989\n"
          ]
        }
      ]
    },
    {
      "cell_type": "code",
      "source": [
        "\n",
        "test(model, train_loader, test_loader, num_classes=output_size)\n"
      ],
      "metadata": {
        "colab": {
          "base_uri": "https://localhost:8080/"
        },
        "outputId": "bfda1f58-a21f-4f53-b9e3-e7408cf27960",
        "id": "A0vi6xbYAy69"
      },
      "execution_count": null,
      "outputs": [
        {
          "output_type": "stream",
          "name": "stdout",
          "text": [
            "Confusion Matrix (Train):\n",
            "[[9759 4224]\n",
            " [4800 8951]]\n",
            "\n",
            "Classification Report (Train):\n",
            "              precision    recall  f1-score   support\n",
            "\n",
            "           0       0.67      0.70      0.68     13983\n",
            "           1       0.68      0.65      0.66     13751\n",
            "\n",
            "    accuracy                           0.67     27734\n",
            "   macro avg       0.67      0.67      0.67     27734\n",
            "weighted avg       0.67      0.67      0.67     27734\n",
            "\n",
            "\n",
            "Confusion Matrix (Test):\n",
            "[[4152 1947]\n",
            " [2051 3737]]\n",
            "\n",
            "Classification Report (Test):\n",
            "              precision    recall  f1-score   support\n",
            "\n",
            "           0       0.67      0.68      0.68      6099\n",
            "           1       0.66      0.65      0.65      5788\n",
            "\n",
            "    accuracy                           0.66     11887\n",
            "   macro avg       0.66      0.66      0.66     11887\n",
            "weighted avg       0.66      0.66      0.66     11887\n",
            "\n"
          ]
        }
      ]
    },
    {
      "cell_type": "code",
      "source": [
        "import matplotlib.pyplot as plt\n",
        "\n",
        "losses = []\n",
        "\n",
        "def training_loop(n_epochs, optimizer, model, loss_fn, train_loader):\n",
        "    for epoch in range(n_epochs):\n",
        "        model.train()\n",
        "        loss_train = 0.0\n",
        "        for inputs, labels in train_loader:\n",
        "            outputs = model(inputs)\n",
        "            loss = loss_fn(outputs, labels)\n",
        "            optimizer.zero_grad()\n",
        "            loss.backward()\n",
        "            optimizer.step()\n",
        "            loss_train += loss.item()\n",
        "        losses.append(loss_train / len(train_loader))\n",
        "        print(f\"Epoch {epoch+1}/{n_epochs}, Loss: {loss_train / len(train_loader):.4f}\")\n",
        "\n"
      ],
      "metadata": {
        "id": "3RV5Hh_nBKUS"
      },
      "execution_count": null,
      "outputs": []
    },
    {
      "cell_type": "markdown",
      "source": [
        "# best model FNN with visualizations"
      ],
      "metadata": {
        "id": "JwZy-j0GG80a"
      }
    },
    {
      "cell_type": "code",
      "source": [
        "\n",
        "input_size = X_train_tensor.shape[1]\n",
        "hidden_size1 = 128\n",
        "hidden_size2 = 64\n",
        "output_size = 2\n",
        "\n",
        "torch.manual_seed(42)\n",
        "model = NeuralNetwork(input_size, hidden_size1, hidden_size2, output_size)\n",
        "optimizer = optim.Adam(model.parameters(), lr=0.0001)\n",
        "loss_fn = nn.CrossEntropyLoss()\n",
        "\n",
        "\n",
        "training_loop(n_epochs=20, optimizer=optimizer, model=model, loss_fn=loss_fn, train_loader=train_loader)\n"
      ],
      "metadata": {
        "colab": {
          "base_uri": "https://localhost:8080/"
        },
        "outputId": "acd8800f-f741-4156-c2b6-bf75dcf5424c",
        "id": "0rU2ZRYmBmJS"
      },
      "execution_count": null,
      "outputs": [
        {
          "output_type": "stream",
          "name": "stdout",
          "text": [
            "Epoch 1/20, Loss: 0.6736\n",
            "Epoch 2/20, Loss: 0.6431\n",
            "Epoch 3/20, Loss: 0.6329\n",
            "Epoch 4/20, Loss: 0.6280\n",
            "Epoch 5/20, Loss: 0.6245\n",
            "Epoch 6/20, Loss: 0.6215\n",
            "Epoch 7/20, Loss: 0.6191\n",
            "Epoch 8/20, Loss: 0.6165\n",
            "Epoch 9/20, Loss: 0.6147\n",
            "Epoch 10/20, Loss: 0.6127\n",
            "Epoch 11/20, Loss: 0.6109\n",
            "Epoch 12/20, Loss: 0.6095\n",
            "Epoch 13/20, Loss: 0.6077\n",
            "Epoch 14/20, Loss: 0.6067\n",
            "Epoch 15/20, Loss: 0.6051\n",
            "Epoch 16/20, Loss: 0.6039\n",
            "Epoch 17/20, Loss: 0.6025\n",
            "Epoch 18/20, Loss: 0.6012\n",
            "Epoch 19/20, Loss: 0.6000\n",
            "Epoch 20/20, Loss: 0.5989\n"
          ]
        }
      ]
    },
    {
      "cell_type": "code",
      "source": [
        "plt.plot(range(1, len(losses) + 1), losses)\n",
        "plt.xlabel(\"Epochs\")\n",
        "plt.ylabel(\"Loss\")\n",
        "plt.title(\"Training Loss Curve\")\n",
        "plt.show()"
      ],
      "metadata": {
        "colab": {
          "base_uri": "https://localhost:8080/",
          "height": 472
        },
        "id": "g-rSFO4KB1rF",
        "outputId": "12e9b957-110b-4e98-9f5c-e776ec921efe"
      },
      "execution_count": null,
      "outputs": [
        {
          "output_type": "display_data",
          "data": {
            "text/plain": [
              "<Figure size 640x480 with 1 Axes>"
            ],
            "image/png": "[encoded data removed]"
          },
          "metadata": {}
        }
      ]
    },
    {
      "cell_type": "code",
      "source": [
        "test(model, train_loader, test_loader, num_classes=output_size)\n"
      ],
      "metadata": {
        "colab": {
          "base_uri": "https://localhost:8080/"
        },
        "outputId": "6936a90b-1799-4209-f016-a1c29c39acfa",
        "id": "1JY3_35_BmJT"
      },
      "execution_count": null,
      "outputs": [
        {
          "output_type": "stream",
          "name": "stdout",
          "text": [
            "Confusion Matrix (Train):\n",
            "[[9759 4224]\n",
            " [4800 8951]]\n",
            "\n",
            "Classification Report (Train):\n",
            "              precision    recall  f1-score   support\n",
            "\n",
            "           0       0.67      0.70      0.68     13983\n",
            "           1       0.68      0.65      0.66     13751\n",
            "\n",
            "    accuracy                           0.67     27734\n",
            "   macro avg       0.67      0.67      0.67     27734\n",
            "weighted avg       0.67      0.67      0.67     27734\n",
            "\n",
            "\n",
            "Confusion Matrix (Test):\n",
            "[[4152 1947]\n",
            " [2051 3737]]\n",
            "\n",
            "Classification Report (Test):\n",
            "              precision    recall  f1-score   support\n",
            "\n",
            "           0       0.67      0.68      0.68      6099\n",
            "           1       0.66      0.65      0.65      5788\n",
            "\n",
            "    accuracy                           0.66     11887\n",
            "   macro avg       0.66      0.66      0.66     11887\n",
            "weighted avg       0.66      0.66      0.66     11887\n",
            "\n"
          ]
        }
      ]
    },
    {
      "cell_type": "code",
      "source": [
        "import seaborn as sns\n",
        "import matplotlib.pyplot as plt\n",
        "\n",
        "def plot_confusion_matrix(y_true, y_pred, num_classes):\n",
        "    conf_matrix = confusion_matrix(y_true, y_pred, labels=list(range(num_classes)))\n",
        "    plt.figure(figsize=(8, 6))\n",
        "    sns.heatmap(conf_matrix, annot=True, fmt='d', cmap='Blues', cbar=False)\n",
        "    plt.title(\"Confusion Matrix\", fontsize=16)\n",
        "    plt.xlabel(\"Predicted Labels\", fontsize=14)\n",
        "    plt.ylabel(\"True Labels\", fontsize=14)\n",
        "    plt.show()\n",
        "\n",
        "y_pred = []\n",
        "y_true = []\n",
        "with torch.no_grad():\n",
        "    for inputs, labels in test_loader:\n",
        "        outputs = model(inputs)\n",
        "        _, predicted = torch.max(outputs, dim=1)\n",
        "        y_pred.extend(predicted.numpy())\n",
        "        y_true.extend(labels.numpy())\n",
        "\n",
        "plot_confusion_matrix(y_true, y_pred, num_classes=output_size)\n"
      ],
      "metadata": {
        "id": "G2pnRMqABTh6",
        "colab": {
          "base_uri": "https://localhost:8080/",
          "height": 571
        },
        "outputId": "b5ec72cb-fe0e-49eb-ea0d-078a64cf1521"
      },
      "execution_count": null,
      "outputs": [
        {
          "output_type": "display_data",
          "data": {
            "text/plain": [
              "<Figure size 800x600 with 1 Axes>"
            ],
            "image/png": "[encoded data removed]"
          },
          "metadata": {}
        }
      ]
    },
    {
      "cell_type": "code",
      "source": [
        "\n",
        "from sklearn.metrics import roc_curve, roc_auc_score\n",
        "import matplotlib.pyplot as plt\n",
        "\n",
        "model.eval()\n",
        "y_prob = []\n",
        "y_true = []\n",
        "\n",
        "with torch.no_grad():\n",
        "    for inputs, labels in test_loader:\n",
        "        outputs = model(inputs)\n",
        "        probabilities = torch.softmax(outputs, dim=1)\n",
        "        y_prob.extend(probabilities[:, 1].numpy())\n",
        "        y_true.extend(labels.numpy())\n"
      ],
      "metadata": {
        "id": "YNqK4mwoCMfA"
      },
      "execution_count": null,
      "outputs": []
    },
    {
      "cell_type": "code",
      "source": [
        "fpr, tpr, thresholds = roc_curve(y_true, y_prob)\n",
        "auc = roc_auc_score(y_true, y_prob)\n",
        "\n",
        "print(f\"AUC: {auc:.4f}\")\n"
      ],
      "metadata": {
        "colab": {
          "base_uri": "https://localhost:8080/"
        },
        "id": "uo16mZuICXWR",
        "outputId": "4a4ac0be-e28e-4252-bb00-9b022ad31429"
      },
      "execution_count": null,
      "outputs": [
        {
          "output_type": "stream",
          "name": "stdout",
          "text": [
            "AUC: 0.7271\n"
          ]
        }
      ]
    },
    {
      "cell_type": "code",
      "source": [
        "plt.figure(figsize=(10, 6))\n",
        "plt.plot(fpr, tpr, label=f'FNN (AUC = {auc:.4f})', color='blue')\n",
        "plt.plot([0, 1], [0, 1], 'k--', label='Random Guess', color='red')\n",
        "plt.title('Receiver Operating Characteristic (ROC) Curve', fontsize=16)\n",
        "plt.xlabel('False Positive Rate', fontsize=14)\n",
        "plt.ylabel('True Positive Rate', fontsize=14)\n",
        "plt.legend(fontsize=12)\n",
        "plt.grid(True)\n",
        "plt.show()\n"
      ],
      "metadata": {
        "id": "UbJC75eICfo4",
        "colab": {
          "base_uri": "https://localhost:8080/",
          "height": 626
        },
        "outputId": "24568662-7cf6-4440-d9c6-47df0ac71092"
      },
      "execution_count": null,
      "outputs": [
        {
          "output_type": "stream",
          "name": "stderr",
          "text": [
            "<ipython-input-33-c33c5d436a2e>:4: UserWarning: color is redundantly defined by the 'color' keyword argument and the fmt string \"k--\" (-> color='k'). The keyword argument will take precedence.\n",
            "  plt.plot([0, 1], [0, 1], 'k--', label='Random Guess', color='red')  # Diagonal line\n"
          ]
        },
        {
          "output_type": "display_data",
          "data": {
            "text/plain": [
              "<Figure size 1000x600 with 1 Axes>"
            ],
            "image/png": "[encoded data removed]"
          },
          "metadata": {}
        }
      ]
    },
    {
      "cell_type": "markdown",
      "source": [
        "# CNN model"
      ],
      "metadata": {
        "id": "4rvPECB9Hrcb"
      }
    },
    {
      "cell_type": "code",
      "source": [
        "import torch\n",
        "import torch.nn as nn\n",
        "import torch.optim as optim\n",
        "from sklearn.metrics import confusion_matrix, classification_report\n",
        "import matplotlib.pyplot as plt\n",
        "import seaborn as sns\n",
        "from sklearn.metrics import roc_curve, roc_auc_score\n",
        "\n",
        "class CNNModel(nn.Module):\n",
        "    def __init__(self, input_size, num_classes):\n",
        "        super(CNNModel, self).__init__()\n",
        "        self.conv1 = nn.Conv1d(1, 16, kernel_size=3, stride=1, padding=1)\n",
        "        self.conv2 = nn.Conv1d(16, 32, kernel_size=3, stride=1, padding=1)\n",
        "        self.fc1 = nn.Linear(input_size * 32, 128)\n",
        "        self.fc2 = nn.Linear(128, num_classes)\n",
        "        self.relu = nn.ReLU()\n",
        "        self.dropout = nn.Dropout(0.5)\n",
        "        self.flatten = nn.Flatten()\n",
        "\n",
        "    def forward(self, x):\n",
        "        x = x.unsqueeze(1)\n",
        "        x = self.relu(self.conv1(x))\n",
        "        x = self.relu(self.conv2(x))\n",
        "        x = self.flatten(x)\n",
        "        x = self.dropout(self.relu(self.fc1(x)))\n",
        "        x = self.fc2(x)\n",
        "        return x\n",
        "\n",
        "torch.manual_seed(42)\n",
        "model = CNNModel(input_size=X_train_tensor.shape[1], num_classes=2)\n",
        "optimizer = optim.Adam(model.parameters(), lr=0.0005)\n",
        "loss_fn = nn.CrossEntropyLoss()\n",
        "\n",
        "def training_loop(n_epochs, model, optimizer, loss_fn, train_loader):\n",
        "    model.train()\n",
        "    losses = []\n",
        "    for epoch in range(n_epochs):\n",
        "        total_loss = 0\n",
        "        for inputs, labels in train_loader:\n",
        "            outputs = model(inputs)\n",
        "            loss = loss_fn(outputs, labels)\n",
        "            optimizer.zero_grad()\n",
        "            loss.backward()\n",
        "            optimizer.step()\n",
        "            total_loss += loss.item()\n",
        "        avg_loss = total_loss / len(train_loader)\n",
        "        losses.append(avg_loss)\n",
        "        print(f\"Epoch {epoch+1}/{n_epochs}, Loss: {avg_loss:.4f}\")\n",
        "    return losses\n",
        "\n",
        "n_epochs = 20\n",
        "losses = training_loop(n_epochs, model, optimizer, loss_fn, train_loader)\n",
        "\n",
        "plt.plot(range(1, len(losses) + 1), losses)\n",
        "plt.xlabel(\"Epochs\")\n",
        "plt.ylabel(\"Loss\")\n",
        "plt.title(\"Training Loss Curve\")\n",
        "plt.show()\n",
        "\n",
        "def evaluate_model(model, test_loader, num_classes):\n",
        "    model.eval()\n",
        "    y_pred, y_true, y_prob = [], [], []\n",
        "\n",
        "    with torch.no_grad():\n",
        "        for inputs, labels in test_loader:\n",
        "            outputs = model(inputs)\n",
        "            probabilities = torch.softmax(outputs, dim=1)\n",
        "            _, predicted = torch.max(outputs, 1)\n",
        "            y_pred.extend(predicted.tolist())\n",
        "            y_true.extend(labels.tolist())\n",
        "            y_prob.extend(probabilities[:, 1].tolist())\n",
        "\n",
        "    print(\"\\nConfusion Matrix:\")\n",
        "    conf_matrix = confusion_matrix(y_true, y_pred, labels=list(range(num_classes)))\n",
        "    sns.heatmap(conf_matrix, annot=True, fmt='d', cmap='Blues', cbar=False)\n",
        "    plt.xlabel(\"Predicted Labels\")\n",
        "    plt.ylabel(\"True Labels\")\n",
        "    plt.title(\"Confusion Matrix\")\n",
        "    plt.show()\n",
        "\n",
        "    print(\"\\nClassification Report:\")\n",
        "    print(classification_report(y_true, y_pred, labels=list(range(num_classes))))\n",
        "\n",
        "    fpr, tpr, _ = roc_curve(y_true, y_prob)\n",
        "    auc = roc_auc_score(y_true, y_prob)\n",
        "    print(f\"AUC: {auc:.4f}\")\n",
        "\n",
        "    plt.figure(figsize=(8, 6))\n",
        "    plt.plot(fpr, tpr, label=f'CNN (AUC = {auc:.4f})', color='blue')\n",
        "    plt.plot([0, 1], [0, 1], 'k--', label='Random Guess', color='red')\n",
        "    plt.xlabel(\"False Positive Rate\")\n",
        "    plt.ylabel(\"True Positive Rate\")\n",
        "    plt.title(\"ROC Curve\")\n",
        "    plt.legend()\n",
        "    plt.grid()\n",
        "    plt.show()\n",
        "\n",
        "evaluate_model(model, test_loader, num_classes=2)\n"
      ],
      "metadata": {
        "colab": {
          "base_uri": "https://localhost:8080/",
          "height": 1000
        },
        "id": "BZA206g7tcOl",
        "outputId": "d4e0a7f4-6001-42d6-e398-cf71f06195c8"
      },
      "execution_count": null,
      "outputs": [
        {
          "output_type": "stream",
          "name": "stdout",
          "text": [
            "Epoch 1/20, Loss: 0.6371\n",
            "Epoch 2/20, Loss: 0.6228\n",
            "Epoch 3/20, Loss: 0.6169\n",
            "Epoch 4/20, Loss: 0.6136\n",
            "Epoch 5/20, Loss: 0.6083\n",
            "Epoch 6/20, Loss: 0.6054\n",
            "Epoch 7/20, Loss: 0.6026\n",
            "Epoch 8/20, Loss: 0.5984\n",
            "Epoch 9/20, Loss: 0.5936\n",
            "Epoch 10/20, Loss: 0.5911\n",
            "Epoch 11/20, Loss: 0.5869\n",
            "Epoch 12/20, Loss: 0.5839\n",
            "Epoch 13/20, Loss: 0.5759\n",
            "Epoch 14/20, Loss: 0.5730\n",
            "Epoch 15/20, Loss: 0.5673\n",
            "Epoch 16/20, Loss: 0.5631\n",
            "Epoch 17/20, Loss: 0.5569\n",
            "Epoch 18/20, Loss: 0.5495\n",
            "Epoch 19/20, Loss: 0.5446\n",
            "Epoch 20/20, Loss: 0.5370\n"
          ]
        },
        {
          "output_type": "display_data",
          "data": {
            "text/plain": [
              "<Figure size 640x480 with 1 Axes>"
            ],
            "image/png": "[encoded data removed]"
          },
          "metadata": {}
        },
        {
          "output_type": "stream",
          "name": "stdout",
          "text": [
            "\n",
            "Confusion Matrix:\n"
          ]
        },
        {
          "output_type": "display_data",
          "data": {
            "text/plain": [
              "<Figure size 640x480 with 1 Axes>"
            ],
            "image/png": "[encoded data removed]"
          },
          "metadata": {}
        },
        {
          "output_type": "stream",
          "name": "stdout",
          "text": [
            "\n",
            "Classification Report:\n",
            "              precision    recall  f1-score   support\n",
            "\n",
            "           0       0.67      0.67      0.67      6099\n",
            "           1       0.65      0.65      0.65      5788\n",
            "\n",
            "    accuracy                           0.66     11887\n",
            "   macro avg       0.66      0.66      0.66     11887\n",
            "weighted avg       0.66      0.66      0.66     11887\n",
            "\n",
            "AUC: 0.7281\n"
          ]
        },
        {
          "output_type": "stream",
          "name": "stderr",
          "text": [
            "<ipython-input-4-17f2a3428246>:100: UserWarning: color is redundantly defined by the 'color' keyword argument and the fmt string \"k--\" (-> color='k'). The keyword argument will take precedence.\n",
            "  plt.plot([0, 1], [0, 1], 'k--', label='Random Guess', color='red')\n"
          ]
        },
        {
          "output_type": "display_data",
          "data": {
            "text/plain": [
              "<Figure size 800x600 with 1 Axes>"
            ],
            "image/png": "[encoded data removed]"
          },
          "metadata": {}
        }
      ]
    }
  ]
}